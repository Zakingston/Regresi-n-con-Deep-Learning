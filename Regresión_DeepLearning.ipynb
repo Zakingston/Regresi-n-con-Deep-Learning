{
  "cells": [
    {
      "cell_type": "markdown",
      "id": "f430cc82-0e07-4345-b40c-3a1e22de51ff",
      "metadata": {
        "id": "f430cc82-0e07-4345-b40c-3a1e22de51ff"
      },
      "source": [
        "<h1><font color=\"#113D68\" size=5>Redes neuronales y deep learning</font></h1>\n",
        "\n",
        "\n",
        "\n",
        "<h1><font color=\"#113D68\" size=6>Caso Práctico: análisis de un problema de regresión con Deep Learning</font></h1>\n",
        "\n",
        "\n",
        "<br><br>\n",
        "<div style=\"text-align: right\">\n",
        "<font size=3>Ezequiel Ortega</font><br>\n",
        "<font size=3>Semana 3: Ajuste de modelos de Deep Learning</font><br>\n",
        "<font size=3>IEBS</font>\n",
        "</div>\n",
        "\n",
        "---\n"
      ]
    },
    {
      "cell_type": "markdown",
      "id": "1dba54fa-f73e-40c2-9883-b4186be0a564",
      "metadata": {
        "id": "1dba54fa-f73e-40c2-9883-b4186be0a564"
      },
      "source": [
        "<a id=\"indice\"></a>\n",
        "<h2><font color=\"#004D7F\" size=5>Índice</font></h2>\n",
        "\n",
        "* [Caso práctico](#section1)\n",
        "    - [Parte obligatoria](#section1.1)\n",
        "    - [Parte opcional](#section1.2)\n",
        "    - [Objetivos](#section1.3)\n",
        "    - [Criterios de entrega](#section1.4)\n",
        "    - [Temporalización](#section1.5)\n",
        "* [California Housing Dataset](#section2)\n",
        "* [Establecer una función de coste adecuada a nuestro problema](#section3)\n",
        "* [Overfitting sobre un pequeño conjunto de datos](#section4)\n",
        "    - [Ejercicio 1](section4.1)\n",
        "    - [Ejercicio 2](section4.2)\n",
        "    - [Ejercicio 3](section4.3)\n",
        "    - [Ejercicio 4](section4.4)\n",
        "    - [Ejercicio 5](section4.5)\n",
        "* [Elegimos un Optimizer](#section5)\n",
        "    - [Ejercicio 6](section5.1)\n",
        "    - [Ejercicio 7](section5.2)\n",
        "    - [Ejercicio 8](section5.3)\n",
        "* [Probar diferentes configuraciones con un número pequeño de epochs](#section6)\n",
        "    - [Ejercicio 9](section6.1)\n",
        "    - [Ejercicio 10](section6.2)\n",
        "* [Ajuste refinado de los parámetros con más epochs](#section7)\n",
        "    - [Ejercicio 11](section7.1)\n",
        "    - [Ejercicio 12](section7.2)"
      ]
    },
    {
      "cell_type": "code",
      "execution_count": null,
      "id": "e063b23e-4fb9-42ea-b062-48b9657a0acd",
      "metadata": {
        "id": "e063b23e-4fb9-42ea-b062-48b9657a0acd"
      },
      "outputs": [],
      "source": [
        "import tensorflow as tf\n",
        "import numpy as np\n",
        "import pandas as pd\n",
        "\n",
        "# Para mostrar gráficas\n",
        "import matplotlib.pyplot as plt\n",
        "%matplotlib inline\n",
        "\n",
        "# Anaconda fixing problem\n",
        "import os\n",
        "os.environ['KMP_DUPLICATE_LIB_OK']='True'"
      ]
    },
    {
      "cell_type": "markdown",
      "id": "6e317bcf-3b1a-45ca-8505-8472b270353f",
      "metadata": {
        "id": "6e317bcf-3b1a-45ca-8505-8472b270353f"
      },
      "source": [
        "# <font color=\"#004D7F\" size=5>Caso práctico</font>\n",
        "\n",
        "El objetivo de este caso práctico es simular como se haría un análisis completo de un problema para resolverlo con Deep Learning. Nos pondremos en la piel de un *data scientist* dedicado a analizar y crear modelos de Deep Learning para pasarlos a producción y ser desplegados en una aplicación.\n",
        "\n",
        "**Destacar que este caso práctico es la continuación de la última actividad realizada en la semana anterior. En la actividad de la semana anterior encontramos la mejor arquitectura para los datos que tenemos y ahora vmoas a realizar más experimentos jugando con los optimizers y el valor del learning rate.**\n",
        "\n",
        "Imaginemos que tenemos un dataset completo que queremos explotar, nuestra labor será coger este dataset (California Housing Dataset) y desde 0 intentar llegar conseguir un modelo que tenga un buen rendimiento ajustándolo poco a poco como hemos visto en clase. Por lo que tendrmeos que entrerar distintas redes y comparar los resultados que obtengamos en cada experimento para ver cual es mejor.\n",
        "\n",
        "Cada experimento que tendremos que realizar estará bien definido, la red que deberéis crear y entrenar será proporcinada por lo que solamente tendréis que crear la red que se nos indica con TensorFlow y realizar el entrenamiento de la misma.\n",
        "\n",
        "## <font color=\"#004D7F\" size=4>Parte obligatoria</font>\n",
        "\n",
        "Será obligatorio realizar cada uno de los ejercicios que están definidos. En cada ejercicio está definida la red que se tiene que crear y la configuración con la que se tiene que entrenar, por lo que solamente tendréis que pasar esa definición a código con TensorFlow.\n",
        "\n",
        "Para tener una buena práctica en la realización de este caso práctico se ofrecen esta recomendaciones:\n",
        "\n",
        "- Utiliza correctamente el sistema de celdas de jupyter. La libreta está realizada de tal forma que solo tendréis que completar las celdas que se indican, ya sea con código o con texto en markdown. Se recomienda rellenar solamente las celdas indicadas para que quede un informe limpio y fácil de seguir. Si fuera necesario incluir más celdas por cualquier motivo se puede hacer pero realizarlo con cuidado para no ensuciar demasiado la libreta.\n",
        "<br><br>\n",
        "- Las redes que tendréis que crear en cada experimento son las vistas en clase, por lo que os podéis inspirar en los ejemplos vistos en los tutoriales. Os recomiendo que no copiéis y peguéis código tal cual, sino que lo escribáis por vuestra cuenta y entendáis lo que estáis haciendo en cada momento. Tomaros el tiempo que haga falta para entender cada paso.\n",
        "<br><br>\n",
        "- Comprueba que todo se ejecuta correctamente antes de enviar tu trabajo. La mejor forma de enviarlo es exportando la libreta a pdf o html para enviarla en un formato más profesional.\n",
        "\n",
        "## <font color=\"#004D7F\" size=4>Parte opcional</font>\n",
        "La parte opcional son los últimos ejercicios donde tendréis que sacar una conclusión de si la red que habéis llegado a conseguir tiene un buen rendimiento.\n",
        "\n",
        "## <font color=\"#004D7F\" size=4>Objetivos</font>\n",
        "* Cargar y entender los datos del dataset California Housing con los que se trabajarán.\n",
        "* Crear cada una de las redes indicadas en los experimentos.\n",
        "* Entrenar cada una de las redes creadas en los experimentos.\n",
        "* Entender los resultados obtenidos en cada entrenamiento.\n",
        "\n",
        "## <font color=\"#004D7F\" size=4>Criterios de entrega</font>\n",
        "Se deberá entregar una libreta de jupyter, aunque se agradecerá que el formato entregado se html o pdf, el trabajo debe estar autocontenido, incluyendo código y texto explicativo para cada sección."
      ]
    },
    {
      "cell_type": "markdown",
      "id": "4f1aaf67-907f-4b6b-afeb-590f5e5b0e47",
      "metadata": {
        "id": "4f1aaf67-907f-4b6b-afeb-590f5e5b0e47"
      },
      "source": [
        "# <font color=\"#004D7F\" size=5>California Housing Dataset</font>\n",
        "En este notebook vamos a usar un dataset nuevo, el dataset es muy parecido al dataset del precio de las casas de boston. Esta vez vamos a utilizar un conjunto de datos que contienen información sobre el precio de las casas encontradas en un distrito de California. Las columnas son las siguientes:\n",
        "\n",
        "- _longitude_: cuanto de al oeste está una casa; un valor más alto está más al oeste.\n",
        "- _latitude_: cuanto de al norte está una casa; un valor más alto está más al norte.\n",
        "- _housing_median_age_: edad media de una casa; un valor bajo es una casa más nueva.\n",
        "- _total_rooms_: número total de habitaciones.\n",
        "- _total_bedrooms_: número total de dormitorios.\n",
        "- _population_: número total de personas que residen.\n",
        "- _households_: número total de hogares, un grupo de personas que residen dentro de una unidad de vivienda.\n",
        "- _median_income_: ingreso medio de los hogares dentro de un bloque de casas (medido en decenas de miles de dólares).\n",
        "- _ocean_proximity_: ubicación de la casa cerca del océano o mar.\n",
        "- _median_house_value (**variables a predecir**)_: valor medio de la vivienda (medido en dólares).\n",
        "\n",
        "Vamos a cargar los datos desde el fichero `housing.csv`:"
      ]
    },
    {
      "cell_type": "code",
      "execution_count": null,
      "id": "ad482b16-92bc-42a2-8515-cfc9d9018a81",
      "metadata": {
        "id": "ad482b16-92bc-42a2-8515-cfc9d9018a81"
      },
      "outputs": [],
      "source": [
        "df = pd.read_csv('housing (1).csv')"
      ]
    },
    {
      "cell_type": "code",
      "execution_count": null,
      "id": "815c3f5b-9019-4799-865c-25419f6814d1",
      "metadata": {
        "colab": {
          "base_uri": "https://localhost:8080/",
          "height": 206
        },
        "id": "815c3f5b-9019-4799-865c-25419f6814d1",
        "outputId": "b1b15159-fa0b-483a-cec7-8c9db3e830f5"
      },
      "outputs": [
        {
          "output_type": "execute_result",
          "data": {
            "text/plain": [
              "   longitude  latitude  housing_median_age  total_rooms  total_bedrooms  \\\n",
              "0    -122.23     37.88                41.0        880.0           129.0   \n",
              "1    -122.22     37.86                21.0       7099.0          1106.0   \n",
              "2    -122.24     37.85                52.0       1467.0           190.0   \n",
              "3    -122.25     37.85                52.0       1274.0           235.0   \n",
              "4    -122.25     37.85                52.0       1627.0           280.0   \n",
              "\n",
              "   population  households  median_income  ocean_proximity  median_house_value  \n",
              "0       322.0       126.0         8.3252                3            452600.0  \n",
              "1      2401.0      1138.0         8.3014                3            358500.0  \n",
              "2       496.0       177.0         7.2574                3            352100.0  \n",
              "3       558.0       219.0         5.6431                3            341300.0  \n",
              "4       565.0       259.0         3.8462                3            342200.0  "
            ],
            "text/html": [
              "\n",
              "  <div id=\"df-26e8e3a9-21fa-48e3-929d-5a1ec6597de7\" class=\"colab-df-container\">\n",
              "    <div>\n",
              "<style scoped>\n",
              "    .dataframe tbody tr th:only-of-type {\n",
              "        vertical-align: middle;\n",
              "    }\n",
              "\n",
              "    .dataframe tbody tr th {\n",
              "        vertical-align: top;\n",
              "    }\n",
              "\n",
              "    .dataframe thead th {\n",
              "        text-align: right;\n",
              "    }\n",
              "</style>\n",
              "<table border=\"1\" class=\"dataframe\">\n",
              "  <thead>\n",
              "    <tr style=\"text-align: right;\">\n",
              "      <th></th>\n",
              "      <th>longitude</th>\n",
              "      <th>latitude</th>\n",
              "      <th>housing_median_age</th>\n",
              "      <th>total_rooms</th>\n",
              "      <th>total_bedrooms</th>\n",
              "      <th>population</th>\n",
              "      <th>households</th>\n",
              "      <th>median_income</th>\n",
              "      <th>ocean_proximity</th>\n",
              "      <th>median_house_value</th>\n",
              "    </tr>\n",
              "  </thead>\n",
              "  <tbody>\n",
              "    <tr>\n",
              "      <th>0</th>\n",
              "      <td>-122.23</td>\n",
              "      <td>37.88</td>\n",
              "      <td>41.0</td>\n",
              "      <td>880.0</td>\n",
              "      <td>129.0</td>\n",
              "      <td>322.0</td>\n",
              "      <td>126.0</td>\n",
              "      <td>8.3252</td>\n",
              "      <td>3</td>\n",
              "      <td>452600.0</td>\n",
              "    </tr>\n",
              "    <tr>\n",
              "      <th>1</th>\n",
              "      <td>-122.22</td>\n",
              "      <td>37.86</td>\n",
              "      <td>21.0</td>\n",
              "      <td>7099.0</td>\n",
              "      <td>1106.0</td>\n",
              "      <td>2401.0</td>\n",
              "      <td>1138.0</td>\n",
              "      <td>8.3014</td>\n",
              "      <td>3</td>\n",
              "      <td>358500.0</td>\n",
              "    </tr>\n",
              "    <tr>\n",
              "      <th>2</th>\n",
              "      <td>-122.24</td>\n",
              "      <td>37.85</td>\n",
              "      <td>52.0</td>\n",
              "      <td>1467.0</td>\n",
              "      <td>190.0</td>\n",
              "      <td>496.0</td>\n",
              "      <td>177.0</td>\n",
              "      <td>7.2574</td>\n",
              "      <td>3</td>\n",
              "      <td>352100.0</td>\n",
              "    </tr>\n",
              "    <tr>\n",
              "      <th>3</th>\n",
              "      <td>-122.25</td>\n",
              "      <td>37.85</td>\n",
              "      <td>52.0</td>\n",
              "      <td>1274.0</td>\n",
              "      <td>235.0</td>\n",
              "      <td>558.0</td>\n",
              "      <td>219.0</td>\n",
              "      <td>5.6431</td>\n",
              "      <td>3</td>\n",
              "      <td>341300.0</td>\n",
              "    </tr>\n",
              "    <tr>\n",
              "      <th>4</th>\n",
              "      <td>-122.25</td>\n",
              "      <td>37.85</td>\n",
              "      <td>52.0</td>\n",
              "      <td>1627.0</td>\n",
              "      <td>280.0</td>\n",
              "      <td>565.0</td>\n",
              "      <td>259.0</td>\n",
              "      <td>3.8462</td>\n",
              "      <td>3</td>\n",
              "      <td>342200.0</td>\n",
              "    </tr>\n",
              "  </tbody>\n",
              "</table>\n",
              "</div>\n",
              "    <div class=\"colab-df-buttons\">\n",
              "\n",
              "  <div class=\"colab-df-container\">\n",
              "    <button class=\"colab-df-convert\" onclick=\"convertToInteractive('df-26e8e3a9-21fa-48e3-929d-5a1ec6597de7')\"\n",
              "            title=\"Convert this dataframe to an interactive table.\"\n",
              "            style=\"display:none;\">\n",
              "\n",
              "  <svg xmlns=\"http://www.w3.org/2000/svg\" height=\"24px\" viewBox=\"0 -960 960 960\">\n",
              "    <path d=\"M120-120v-720h720v720H120Zm60-500h600v-160H180v160Zm220 220h160v-160H400v160Zm0 220h160v-160H400v160ZM180-400h160v-160H180v160Zm440 0h160v-160H620v160ZM180-180h160v-160H180v160Zm440 0h160v-160H620v160Z\"/>\n",
              "  </svg>\n",
              "    </button>\n",
              "\n",
              "  <style>\n",
              "    .colab-df-container {\n",
              "      display:flex;\n",
              "      gap: 12px;\n",
              "    }\n",
              "\n",
              "    .colab-df-convert {\n",
              "      background-color: #E8F0FE;\n",
              "      border: none;\n",
              "      border-radius: 50%;\n",
              "      cursor: pointer;\n",
              "      display: none;\n",
              "      fill: #1967D2;\n",
              "      height: 32px;\n",
              "      padding: 0 0 0 0;\n",
              "      width: 32px;\n",
              "    }\n",
              "\n",
              "    .colab-df-convert:hover {\n",
              "      background-color: #E2EBFA;\n",
              "      box-shadow: 0px 1px 2px rgba(60, 64, 67, 0.3), 0px 1px 3px 1px rgba(60, 64, 67, 0.15);\n",
              "      fill: #174EA6;\n",
              "    }\n",
              "\n",
              "    .colab-df-buttons div {\n",
              "      margin-bottom: 4px;\n",
              "    }\n",
              "\n",
              "    [theme=dark] .colab-df-convert {\n",
              "      background-color: #3B4455;\n",
              "      fill: #D2E3FC;\n",
              "    }\n",
              "\n",
              "    [theme=dark] .colab-df-convert:hover {\n",
              "      background-color: #434B5C;\n",
              "      box-shadow: 0px 1px 3px 1px rgba(0, 0, 0, 0.15);\n",
              "      filter: drop-shadow(0px 1px 2px rgba(0, 0, 0, 0.3));\n",
              "      fill: #FFFFFF;\n",
              "    }\n",
              "  </style>\n",
              "\n",
              "    <script>\n",
              "      const buttonEl =\n",
              "        document.querySelector('#df-26e8e3a9-21fa-48e3-929d-5a1ec6597de7 button.colab-df-convert');\n",
              "      buttonEl.style.display =\n",
              "        google.colab.kernel.accessAllowed ? 'block' : 'none';\n",
              "\n",
              "      async function convertToInteractive(key) {\n",
              "        const element = document.querySelector('#df-26e8e3a9-21fa-48e3-929d-5a1ec6597de7');\n",
              "        const dataTable =\n",
              "          await google.colab.kernel.invokeFunction('convertToInteractive',\n",
              "                                                    [key], {});\n",
              "        if (!dataTable) return;\n",
              "\n",
              "        const docLinkHtml = 'Like what you see? Visit the ' +\n",
              "          '<a target=\"_blank\" href=https://colab.research.google.com/notebooks/data_table.ipynb>data table notebook</a>'\n",
              "          + ' to learn more about interactive tables.';\n",
              "        element.innerHTML = '';\n",
              "        dataTable['output_type'] = 'display_data';\n",
              "        await google.colab.output.renderOutput(dataTable, element);\n",
              "        const docLink = document.createElement('div');\n",
              "        docLink.innerHTML = docLinkHtml;\n",
              "        element.appendChild(docLink);\n",
              "      }\n",
              "    </script>\n",
              "  </div>\n",
              "\n",
              "\n",
              "<div id=\"df-a67560b6-7159-4c1a-a41e-3d12769218fe\">\n",
              "  <button class=\"colab-df-quickchart\" onclick=\"quickchart('df-a67560b6-7159-4c1a-a41e-3d12769218fe')\"\n",
              "            title=\"Suggest charts\"\n",
              "            style=\"display:none;\">\n",
              "\n",
              "<svg xmlns=\"http://www.w3.org/2000/svg\" height=\"24px\"viewBox=\"0 0 24 24\"\n",
              "     width=\"24px\">\n",
              "    <g>\n",
              "        <path d=\"M19 3H5c-1.1 0-2 .9-2 2v14c0 1.1.9 2 2 2h14c1.1 0 2-.9 2-2V5c0-1.1-.9-2-2-2zM9 17H7v-7h2v7zm4 0h-2V7h2v10zm4 0h-2v-4h2v4z\"/>\n",
              "    </g>\n",
              "</svg>\n",
              "  </button>\n",
              "\n",
              "<style>\n",
              "  .colab-df-quickchart {\n",
              "      --bg-color: #E8F0FE;\n",
              "      --fill-color: #1967D2;\n",
              "      --hover-bg-color: #E2EBFA;\n",
              "      --hover-fill-color: #174EA6;\n",
              "      --disabled-fill-color: #AAA;\n",
              "      --disabled-bg-color: #DDD;\n",
              "  }\n",
              "\n",
              "  [theme=dark] .colab-df-quickchart {\n",
              "      --bg-color: #3B4455;\n",
              "      --fill-color: #D2E3FC;\n",
              "      --hover-bg-color: #434B5C;\n",
              "      --hover-fill-color: #FFFFFF;\n",
              "      --disabled-bg-color: #3B4455;\n",
              "      --disabled-fill-color: #666;\n",
              "  }\n",
              "\n",
              "  .colab-df-quickchart {\n",
              "    background-color: var(--bg-color);\n",
              "    border: none;\n",
              "    border-radius: 50%;\n",
              "    cursor: pointer;\n",
              "    display: none;\n",
              "    fill: var(--fill-color);\n",
              "    height: 32px;\n",
              "    padding: 0;\n",
              "    width: 32px;\n",
              "  }\n",
              "\n",
              "  .colab-df-quickchart:hover {\n",
              "    background-color: var(--hover-bg-color);\n",
              "    box-shadow: 0 1px 2px rgba(60, 64, 67, 0.3), 0 1px 3px 1px rgba(60, 64, 67, 0.15);\n",
              "    fill: var(--button-hover-fill-color);\n",
              "  }\n",
              "\n",
              "  .colab-df-quickchart-complete:disabled,\n",
              "  .colab-df-quickchart-complete:disabled:hover {\n",
              "    background-color: var(--disabled-bg-color);\n",
              "    fill: var(--disabled-fill-color);\n",
              "    box-shadow: none;\n",
              "  }\n",
              "\n",
              "  .colab-df-spinner {\n",
              "    border: 2px solid var(--fill-color);\n",
              "    border-color: transparent;\n",
              "    border-bottom-color: var(--fill-color);\n",
              "    animation:\n",
              "      spin 1s steps(1) infinite;\n",
              "  }\n",
              "\n",
              "  @keyframes spin {\n",
              "    0% {\n",
              "      border-color: transparent;\n",
              "      border-bottom-color: var(--fill-color);\n",
              "      border-left-color: var(--fill-color);\n",
              "    }\n",
              "    20% {\n",
              "      border-color: transparent;\n",
              "      border-left-color: var(--fill-color);\n",
              "      border-top-color: var(--fill-color);\n",
              "    }\n",
              "    30% {\n",
              "      border-color: transparent;\n",
              "      border-left-color: var(--fill-color);\n",
              "      border-top-color: var(--fill-color);\n",
              "      border-right-color: var(--fill-color);\n",
              "    }\n",
              "    40% {\n",
              "      border-color: transparent;\n",
              "      border-right-color: var(--fill-color);\n",
              "      border-top-color: var(--fill-color);\n",
              "    }\n",
              "    60% {\n",
              "      border-color: transparent;\n",
              "      border-right-color: var(--fill-color);\n",
              "    }\n",
              "    80% {\n",
              "      border-color: transparent;\n",
              "      border-right-color: var(--fill-color);\n",
              "      border-bottom-color: var(--fill-color);\n",
              "    }\n",
              "    90% {\n",
              "      border-color: transparent;\n",
              "      border-bottom-color: var(--fill-color);\n",
              "    }\n",
              "  }\n",
              "</style>\n",
              "\n",
              "  <script>\n",
              "    async function quickchart(key) {\n",
              "      const quickchartButtonEl =\n",
              "        document.querySelector('#' + key + ' button');\n",
              "      quickchartButtonEl.disabled = true;  // To prevent multiple clicks.\n",
              "      quickchartButtonEl.classList.add('colab-df-spinner');\n",
              "      try {\n",
              "        const charts = await google.colab.kernel.invokeFunction(\n",
              "            'suggestCharts', [key], {});\n",
              "      } catch (error) {\n",
              "        console.error('Error during call to suggestCharts:', error);\n",
              "      }\n",
              "      quickchartButtonEl.classList.remove('colab-df-spinner');\n",
              "      quickchartButtonEl.classList.add('colab-df-quickchart-complete');\n",
              "    }\n",
              "    (() => {\n",
              "      let quickchartButtonEl =\n",
              "        document.querySelector('#df-a67560b6-7159-4c1a-a41e-3d12769218fe button');\n",
              "      quickchartButtonEl.style.display =\n",
              "        google.colab.kernel.accessAllowed ? 'block' : 'none';\n",
              "    })();\n",
              "  </script>\n",
              "</div>\n",
              "    </div>\n",
              "  </div>\n"
            ]
          },
          "metadata": {},
          "execution_count": 5
        }
      ],
      "source": [
        "df.head()"
      ]
    },
    {
      "cell_type": "code",
      "execution_count": null,
      "id": "584e62e4-716b-4fe5-b093-8cd0897b1147",
      "metadata": {
        "colab": {
          "base_uri": "https://localhost:8080/"
        },
        "id": "584e62e4-716b-4fe5-b093-8cd0897b1147",
        "outputId": "0ebf5571-1e31-4482-87a0-0ef37ee2a115"
      },
      "outputs": [
        {
          "output_type": "execute_result",
          "data": {
            "text/plain": [
              "(20433, 10)"
            ]
          },
          "metadata": {},
          "execution_count": 6
        }
      ],
      "source": [
        "df.shape"
      ]
    },
    {
      "cell_type": "markdown",
      "id": "5dcbc720-9ae5-4573-b717-380fc57300db",
      "metadata": {
        "id": "5dcbc720-9ae5-4573-b717-380fc57300db"
      },
      "source": [
        "Vamos a separar la variable objetivo del resto de variables (accedemos al campo value para que los datos sean de tipo _numpy array_ y se puedan usar como variable de entrada de nuestra red):"
      ]
    },
    {
      "cell_type": "code",
      "execution_count": null,
      "id": "66f94dde-c456-4e7c-8d66-c29989a936d5",
      "metadata": {
        "colab": {
          "base_uri": "https://localhost:8080/"
        },
        "id": "66f94dde-c456-4e7c-8d66-c29989a936d5",
        "outputId": "36392c56-91e0-439d-cdeb-9a4b60a96abf"
      },
      "outputs": [
        {
          "output_type": "execute_result",
          "data": {
            "text/plain": [
              "Index(['longitude', 'latitude', 'housing_median_age', 'total_rooms',\n",
              "       'total_bedrooms', 'population', 'households', 'median_income',\n",
              "       'ocean_proximity', 'median_house_value'],\n",
              "      dtype='object')"
            ]
          },
          "metadata": {},
          "execution_count": 7
        }
      ],
      "source": [
        "df.columns"
      ]
    },
    {
      "cell_type": "code",
      "execution_count": null,
      "id": "a3dc67f7-96c7-4d68-a9de-cd7e987d4317",
      "metadata": {
        "id": "a3dc67f7-96c7-4d68-a9de-cd7e987d4317"
      },
      "outputs": [],
      "source": [
        "x = df[['longitude', 'latitude', 'housing_median_age', 'total_rooms',\n",
        "       'total_bedrooms', 'population', 'households', 'median_income',\n",
        "       'ocean_proximity']].values\n",
        "y = df[['median_house_value']].values"
      ]
    },
    {
      "cell_type": "markdown",
      "id": "2c2083f7-4a8a-4d7e-8d84-29c7bc8ab5e4",
      "metadata": {
        "id": "2c2083f7-4a8a-4d7e-8d84-29c7bc8ab5e4"
      },
      "source": [
        "## 1. Establecer una función de coste adecuada a nuestro problema.\n",
        "\n",
        "En este caso, como es un problema de regresión y los valores de nuestros datos son tan grandes, elegimos la función de coste `mean_absolute_percentage_error`, este error varía entre los valores 100 y 0 donde 100 es el pero error que podemos llegar a tener y 0 es el mejor error, por lo que en nuestros entrenamientos buscaremos un error más cercano a 0."
      ]
    },
    {
      "cell_type": "code",
      "execution_count": null,
      "id": "ecce9bab-53be-4608-9ed1-22681a002b45",
      "metadata": {
        "id": "ecce9bab-53be-4608-9ed1-22681a002b45"
      },
      "outputs": [],
      "source": [
        "actual_loss = 'mean_absolute_percentage_error'"
      ]
    },
    {
      "cell_type": "markdown",
      "id": "de461a42-39f5-4e95-834b-3e44dd827b1e",
      "metadata": {
        "id": "de461a42-39f5-4e95-834b-3e44dd827b1e"
      },
      "source": [
        "## 2. Overfitting sobre un pequeño conjunto de datos.\n",
        "\n",
        "Ahora, como ya hemos visto en clase vamos a encontrar una estructura de red que encaje con los datos que vamos a utilizar. Vamos a crear varias redes a ver que talfuncionan.\n",
        "\n",
        "Para hacer entrenamientos rápidos y ver si la red se adapta a los datos vamos a usar solo un subconjunto de los datos, es decir usaremos 1000 datos y no usaremos conjunto de validación."
      ]
    },
    {
      "cell_type": "markdown",
      "id": "be35e870-17dc-4bd6-b980-dfc15407e273",
      "metadata": {
        "id": "be35e870-17dc-4bd6-b980-dfc15407e273"
      },
      "source": [
        "### <font color=\"#004D7F\" size=4>Ejercicio 1</font>\n",
        "\n",
        "Crear una red con la siguiente configuración y entrénala:\n",
        "\n",
        "- **Configuración de la red**:\n",
        "    - Arquitectura de la red:\n",
        "        - *1º Capa*: capa de entrada donde indiques la dimensión de los datos.\n",
        "        - *2º Capa*: capa densa con 8 neuronas y función de activación *relu*.\n",
        "        - *3º Capa*: capa densa con 8 neuronas y función de activación *relu*.\n",
        "        - *4º Capa*: capa de salida con una neurona sin función de activación.\n",
        "        \n",
        "    - Tipo de entrenamiento:\n",
        "        - *Epochs*: 30\n",
        "        - *Optimizador*: *adam*\n",
        "        - *Learning Rate*: 0.001"
      ]
    },
    {
      "cell_type": "code",
      "execution_count": null,
      "id": "9a4fb414-5ca3-47bc-a796-cfbe3ba2252f",
      "metadata": {
        "colab": {
          "base_uri": "https://localhost:8080/"
        },
        "id": "9a4fb414-5ca3-47bc-a796-cfbe3ba2252f",
        "outputId": "ac4df28c-b09a-4b47-e29a-adddb33ad73f"
      },
      "outputs": [
        {
          "output_type": "stream",
          "name": "stdout",
          "text": [
            "Epoch 1/30\n",
            "32/32 [==============================] - 1s 2ms/step - loss: 99.8437\n",
            "Epoch 2/30\n",
            "32/32 [==============================] - 0s 2ms/step - loss: 99.7021\n",
            "Epoch 3/30\n",
            "32/32 [==============================] - 0s 2ms/step - loss: 99.4762\n",
            "Epoch 4/30\n",
            "32/32 [==============================] - 0s 2ms/step - loss: 99.0416\n",
            "Epoch 5/30\n",
            "32/32 [==============================] - 0s 2ms/step - loss: 98.4015\n",
            "Epoch 6/30\n",
            "32/32 [==============================] - 0s 2ms/step - loss: 97.5136\n",
            "Epoch 7/30\n",
            "32/32 [==============================] - 0s 2ms/step - loss: 96.2847\n",
            "Epoch 8/30\n",
            "32/32 [==============================] - 0s 2ms/step - loss: 94.5562\n",
            "Epoch 9/30\n",
            "32/32 [==============================] - 0s 2ms/step - loss: 92.1419\n",
            "Epoch 10/30\n",
            "32/32 [==============================] - 0s 2ms/step - loss: 89.0387\n",
            "Epoch 11/30\n",
            "32/32 [==============================] - 0s 2ms/step - loss: 85.3326\n",
            "Epoch 12/30\n",
            "32/32 [==============================] - 0s 2ms/step - loss: 81.0744\n",
            "Epoch 13/30\n",
            "32/32 [==============================] - 0s 2ms/step - loss: 76.5029\n",
            "Epoch 14/30\n",
            "32/32 [==============================] - 0s 2ms/step - loss: 71.9040\n",
            "Epoch 15/30\n",
            "32/32 [==============================] - 0s 2ms/step - loss: 67.3397\n",
            "Epoch 16/30\n",
            "32/32 [==============================] - 0s 2ms/step - loss: 63.3680\n",
            "Epoch 17/30\n",
            "32/32 [==============================] - 0s 2ms/step - loss: 60.5340\n",
            "Epoch 18/30\n",
            "32/32 [==============================] - 0s 2ms/step - loss: 58.9560\n",
            "Epoch 19/30\n",
            "32/32 [==============================] - 0s 2ms/step - loss: 58.0295\n",
            "Epoch 20/30\n",
            "32/32 [==============================] - 0s 2ms/step - loss: 57.3958\n",
            "Epoch 21/30\n",
            "32/32 [==============================] - 0s 2ms/step - loss: 56.9728\n",
            "Epoch 22/30\n",
            "32/32 [==============================] - 0s 2ms/step - loss: 56.7470\n",
            "Epoch 23/30\n",
            "32/32 [==============================] - 0s 2ms/step - loss: 56.6326\n",
            "Epoch 24/30\n",
            "32/32 [==============================] - 0s 2ms/step - loss: 56.6197\n",
            "Epoch 25/30\n",
            "32/32 [==============================] - 0s 2ms/step - loss: 56.5290\n",
            "Epoch 26/30\n",
            "32/32 [==============================] - 0s 2ms/step - loss: 56.4981\n",
            "Epoch 27/30\n",
            "32/32 [==============================] - 0s 2ms/step - loss: 56.4692\n",
            "Epoch 28/30\n",
            "32/32 [==============================] - 0s 2ms/step - loss: 56.4377\n",
            "Epoch 29/30\n",
            "32/32 [==============================] - 0s 2ms/step - loss: 56.4016\n",
            "Epoch 30/30\n",
            "32/32 [==============================] - 0s 2ms/step - loss: 56.3785\n"
          ]
        },
        {
          "output_type": "execute_result",
          "data": {
            "text/plain": [
              "<keras.src.callbacks.History at 0x7871a58c5d50>"
            ]
          },
          "metadata": {},
          "execution_count": 10
        }
      ],
      "source": [
        "from tensorflow.keras.models import Sequential\n",
        "from tensorflow.keras.layers import Dense\n",
        "# Tomar un subconjunto de 1000 datos\n",
        "subset_size = 1000\n",
        "indices_subset = np.random.choice(len(x), subset_size, replace=False)\n",
        "x_subset = x[indices_subset]\n",
        "y_subset = y[indices_subset]\n",
        "\n",
        "# Construir el modelo\n",
        "model = Sequential()\n",
        "model.add(Dense(8, input_dim=x_subset.shape[1], activation='relu'))\n",
        "model.add(Dense(8, activation='relu'))\n",
        "model.add(Dense(1, activation=None))\n",
        "\n",
        "# Compilar el modelo\n",
        "optimizer = tf.keras.optimizers.Adam(learning_rate=0.001)\n",
        "model.compile(loss= actual_loss, optimizer=optimizer)\n",
        "\n",
        "# Entrenar el modelo\n",
        "epochs = 30\n",
        "model.fit(x_subset, y_subset, epochs=epochs)"
      ]
    },
    {
      "cell_type": "markdown",
      "id": "fdb3cb0e-6ed1-4a13-a391-4166ef00b2ed",
      "metadata": {
        "id": "fdb3cb0e-6ed1-4a13-a391-4166ef00b2ed"
      },
      "source": [
        "### <font color=\"#004D7F\" size=4>Ejercicio 2</font>\n",
        "\n",
        "Vamos a complicar un poco más la arquitectura de la red:\n",
        "\n",
        "- **Configuración de la red**:\n",
        "    - Arquitectura de la red:\n",
        "        - *1º Capa*: capa de entrada donde indiques la dimensión de los datos.\n",
        "        - *2º Capa*: capa densa con 64 neuronas y función de activación *relu*.\n",
        "        - *3º Capa*: capa densa con 32 neuronas y función de activación *relu*.\n",
        "        - *4º Capa*: capa densa con 32 neuronas y función de activación *relu*.\n",
        "        - *5º Capa*: capa de salida con una neurona sin función de activación.\n",
        "        \n",
        "    - Tipo de entrenamiento:\n",
        "        - *Epochs*: 30\n",
        "        - *Optimizador*: *adam*\n",
        "        - *Learning Rate*: 0.001"
      ]
    },
    {
      "cell_type": "code",
      "execution_count": null,
      "id": "e5c9b03d-ec66-4cfc-bcc5-8502b0bf6250",
      "metadata": {
        "colab": {
          "base_uri": "https://localhost:8080/"
        },
        "id": "e5c9b03d-ec66-4cfc-bcc5-8502b0bf6250",
        "outputId": "6ee51337-ada0-40ea-b659-679b06387769"
      },
      "outputs": [
        {
          "output_type": "stream",
          "name": "stdout",
          "text": [
            "Epoch 1/30\n",
            "32/32 [==============================] - 1s 4ms/step - loss: 99.2518\n",
            "Epoch 2/30\n",
            "32/32 [==============================] - 0s 5ms/step - loss: 93.0832\n",
            "Epoch 3/30\n",
            "32/32 [==============================] - 0s 6ms/step - loss: 64.2039\n",
            "Epoch 4/30\n",
            "32/32 [==============================] - 0s 6ms/step - loss: 55.6873\n",
            "Epoch 5/30\n",
            "32/32 [==============================] - 0s 5ms/step - loss: 55.0845\n",
            "Epoch 6/30\n",
            "32/32 [==============================] - 0s 4ms/step - loss: 55.1895\n",
            "Epoch 7/30\n",
            "32/32 [==============================] - 0s 5ms/step - loss: 54.7776\n",
            "Epoch 8/30\n",
            "32/32 [==============================] - 0s 4ms/step - loss: 54.6806\n",
            "Epoch 9/30\n",
            "32/32 [==============================] - 0s 4ms/step - loss: 53.8821\n",
            "Epoch 10/30\n",
            "32/32 [==============================] - 0s 9ms/step - loss: 53.4216\n",
            "Epoch 11/30\n",
            "32/32 [==============================] - 0s 13ms/step - loss: 53.1216\n",
            "Epoch 12/30\n",
            "32/32 [==============================] - 0s 4ms/step - loss: 52.4600\n",
            "Epoch 13/30\n",
            "32/32 [==============================] - 0s 4ms/step - loss: 51.8437\n",
            "Epoch 14/30\n",
            "32/32 [==============================] - 0s 4ms/step - loss: 51.1575\n",
            "Epoch 15/30\n",
            "32/32 [==============================] - 0s 4ms/step - loss: 50.6111\n",
            "Epoch 16/30\n",
            "32/32 [==============================] - 0s 5ms/step - loss: 50.0332\n",
            "Epoch 17/30\n",
            "32/32 [==============================] - 0s 5ms/step - loss: 49.0559\n",
            "Epoch 18/30\n",
            "32/32 [==============================] - 0s 4ms/step - loss: 48.6302\n",
            "Epoch 19/30\n",
            "32/32 [==============================] - 0s 4ms/step - loss: 47.5104\n",
            "Epoch 20/30\n",
            "32/32 [==============================] - 0s 4ms/step - loss: 47.9807\n",
            "Epoch 21/30\n",
            "32/32 [==============================] - 0s 5ms/step - loss: 46.9174\n",
            "Epoch 22/30\n",
            "32/32 [==============================] - 0s 5ms/step - loss: 45.8294\n",
            "Epoch 23/30\n",
            "32/32 [==============================] - 0s 4ms/step - loss: 45.4403\n",
            "Epoch 24/30\n",
            "32/32 [==============================] - 0s 4ms/step - loss: 44.8134\n",
            "Epoch 25/30\n",
            "32/32 [==============================] - 0s 4ms/step - loss: 44.2621\n",
            "Epoch 26/30\n",
            "32/32 [==============================] - 0s 4ms/step - loss: 43.9584\n",
            "Epoch 27/30\n",
            "32/32 [==============================] - 0s 5ms/step - loss: 43.7529\n",
            "Epoch 28/30\n",
            "32/32 [==============================] - 0s 6ms/step - loss: 43.6506\n",
            "Epoch 29/30\n",
            "32/32 [==============================] - 0s 5ms/step - loss: 43.5149\n",
            "Epoch 30/30\n",
            "32/32 [==============================] - 0s 6ms/step - loss: 43.3327\n"
          ]
        },
        {
          "output_type": "execute_result",
          "data": {
            "text/plain": [
              "<keras.src.callbacks.History at 0x7871a4d7da50>"
            ]
          },
          "metadata": {},
          "execution_count": 11
        }
      ],
      "source": [
        "# Tomar un subconjunto de 1000 datos\n",
        "subset_size = 1000\n",
        "indices_subset = np.random.choice(len(x), subset_size, replace=False)\n",
        "x_subset = x[indices_subset]\n",
        "y_subset = y[indices_subset]\n",
        "\n",
        "# Construir el modelo con la nueva arquitectura\n",
        "model = Sequential()\n",
        "model.add(Dense(64, input_dim=x_subset.shape[1], activation='relu'))\n",
        "model.add(Dense(32, activation='relu'))\n",
        "model.add(Dense(32, activation='relu'))\n",
        "model.add(Dense(32, activation='relu'))\n",
        "model.add(Dense(1, activation=None))\n",
        "\n",
        "# Compilar el modelo\n",
        "optimizer = tf.keras.optimizers.Adam(learning_rate=0.001)\n",
        "model.compile(loss=actual_loss, optimizer=optimizer)\n",
        "\n",
        "# Entrenar el modelo\n",
        "epochs = 30\n",
        "model.fit(x_subset, y_subset, epochs=epochs)"
      ]
    },
    {
      "cell_type": "markdown",
      "id": "5a95d5de-4044-46f0-a5c1-18e9a1514c55",
      "metadata": {
        "id": "5a95d5de-4044-46f0-a5c1-18e9a1514c55"
      },
      "source": [
        "### <font color=\"#004D7F\" size=4>Ejercicio 3</font>\n",
        "\n",
        "Vamos a complicar aun más la arquitectura de la red:\n",
        "\n",
        "- **Configuración de la red**:\n",
        "    - Arquitectura de la red:\n",
        "        - *1º Capa*: capa de entrada donde indiques la dimensión de los datos.\n",
        "        - *2º Capa*: capa densa con 128 neuronas y función de activación *relu*.\n",
        "        - *3º Capa*: capa densa con 64 neuronas y función de activación *relu*.\n",
        "        - *4º Capa*: capa densa con 32 neuronas y función de activación *relu*.\n",
        "        - *5º Capa*: capa densa con 16 neuronas y función de activación *relu*.\n",
        "        - *6º Capa*: capa de salida con una neurona sin función de activación.\n",
        "        \n",
        "    - Tipo de entrenamiento:\n",
        "        - *Epochs*: 30\n",
        "        - *Optimizador*: *adam*\n",
        "        - *Learning Rate*: 0.001"
      ]
    },
    {
      "cell_type": "code",
      "execution_count": null,
      "id": "038f48ba-ed0f-44d1-a57c-ceca899347af",
      "metadata": {
        "colab": {
          "base_uri": "https://localhost:8080/"
        },
        "id": "038f48ba-ed0f-44d1-a57c-ceca899347af",
        "outputId": "5833ca24-b54c-49ed-ca0e-91b50f7321f1"
      },
      "outputs": [
        {
          "output_type": "stream",
          "name": "stdout",
          "text": [
            "Epoch 1/30\n",
            "32/32 [==============================] - 1s 3ms/step - loss: 99.8050\n",
            "Epoch 2/30\n",
            "32/32 [==============================] - 0s 3ms/step - loss: 97.4761\n",
            "Epoch 3/30\n",
            "32/32 [==============================] - 0s 3ms/step - loss: 81.8240\n",
            "Epoch 4/30\n",
            "32/32 [==============================] - 0s 3ms/step - loss: 59.1561\n",
            "Epoch 5/30\n",
            "32/32 [==============================] - 0s 4ms/step - loss: 57.1334\n",
            "Epoch 6/30\n",
            "32/32 [==============================] - 0s 3ms/step - loss: 56.7350\n",
            "Epoch 7/30\n",
            "32/32 [==============================] - 0s 3ms/step - loss: 56.5320\n",
            "Epoch 8/30\n",
            "32/32 [==============================] - 0s 2ms/step - loss: 56.2499\n",
            "Epoch 9/30\n",
            "32/32 [==============================] - 0s 2ms/step - loss: 55.8287\n",
            "Epoch 10/30\n",
            "32/32 [==============================] - 0s 2ms/step - loss: 55.3178\n",
            "Epoch 11/30\n",
            "32/32 [==============================] - 0s 3ms/step - loss: 54.9968\n",
            "Epoch 12/30\n",
            "32/32 [==============================] - 0s 3ms/step - loss: 54.4631\n",
            "Epoch 13/30\n",
            "32/32 [==============================] - 0s 3ms/step - loss: 53.6685\n",
            "Epoch 14/30\n",
            "32/32 [==============================] - 0s 2ms/step - loss: 53.3377\n",
            "Epoch 15/30\n",
            "32/32 [==============================] - 0s 2ms/step - loss: 52.7591\n",
            "Epoch 16/30\n",
            "32/32 [==============================] - 0s 2ms/step - loss: 51.6872\n",
            "Epoch 17/30\n",
            "32/32 [==============================] - 0s 3ms/step - loss: 50.8742\n",
            "Epoch 18/30\n",
            "32/32 [==============================] - 0s 3ms/step - loss: 50.1914\n",
            "Epoch 19/30\n",
            "32/32 [==============================] - 0s 5ms/step - loss: 49.5292\n",
            "Epoch 20/30\n",
            "32/32 [==============================] - 0s 6ms/step - loss: 48.5149\n",
            "Epoch 21/30\n",
            "32/32 [==============================] - 0s 6ms/step - loss: 47.7428\n",
            "Epoch 22/30\n",
            "32/32 [==============================] - 0s 5ms/step - loss: 47.1584\n",
            "Epoch 23/30\n",
            "32/32 [==============================] - 0s 5ms/step - loss: 46.9076\n",
            "Epoch 24/30\n",
            "32/32 [==============================] - 0s 5ms/step - loss: 46.4958\n",
            "Epoch 25/30\n",
            "32/32 [==============================] - 0s 4ms/step - loss: 46.0504\n",
            "Epoch 26/30\n",
            "32/32 [==============================] - 0s 3ms/step - loss: 45.6891\n",
            "Epoch 27/30\n",
            "32/32 [==============================] - 0s 4ms/step - loss: 45.8593\n",
            "Epoch 28/30\n",
            "32/32 [==============================] - 0s 3ms/step - loss: 45.7597\n",
            "Epoch 29/30\n",
            "32/32 [==============================] - 0s 3ms/step - loss: 45.4591\n",
            "Epoch 30/30\n",
            "32/32 [==============================] - 0s 3ms/step - loss: 45.8119\n"
          ]
        },
        {
          "output_type": "execute_result",
          "data": {
            "text/plain": [
              "<keras.src.callbacks.History at 0x7871a5f6f490>"
            ]
          },
          "metadata": {},
          "execution_count": 12
        }
      ],
      "source": [
        "# Tomar un subconjunto de 1000 datos\n",
        "subset_size = 1000\n",
        "indices_subset = np.random.choice(len(x), subset_size, replace=False)\n",
        "x_subset = x[indices_subset]\n",
        "y_subset = y[indices_subset]\n",
        "\n",
        "# Construir el modelo con la nueva arquitectura\n",
        "model = Sequential()\n",
        "model.add(Dense(128, input_dim=x_subset.shape[1], activation='relu'))\n",
        "model.add(Dense(64, activation='relu'))\n",
        "model.add(Dense(32, activation='relu'))\n",
        "model.add(Dense(16, activation='relu'))\n",
        "model.add(Dense(1, activation=None))\n",
        "\n",
        "# Compilar el modelo\n",
        "optimizer = tf.keras.optimizers.Adam(learning_rate=0.001)\n",
        "model.compile(loss=actual_loss, optimizer=optimizer)\n",
        "\n",
        "# Entrenar el modelo\n",
        "epochs = 30\n",
        "model.fit(x_subset, y_subset, epochs=epochs)"
      ]
    },
    {
      "cell_type": "markdown",
      "id": "16c6b16e-38c3-4535-a833-6c7f30195d97",
      "metadata": {
        "id": "16c6b16e-38c3-4535-a833-6c7f30195d97"
      },
      "source": [
        "### <font color=\"#004D7F\" size=4>Ejercicio 4</font>\n",
        "\n",
        "Vamos a hacer una última red con más capas y neuronas:\n",
        "\n",
        "- **Configuración de la red**:\n",
        "    - Arquitectura de la red:\n",
        "        - *1º Capa*: capa de entrada donde indiques la dimensión de los datos.\n",
        "        - *2º Capa*: capa densa con 1024 neuronas y función de activación *relu*.\n",
        "        - *3º Capa*: capa densa con 512 neuronas y función de activación *relu*.\n",
        "        - *4º Capa*: capa densa con 256 neuronas y función de activación *relu*.\n",
        "        - *5º Capa*: capa densa con 128 neuronas y función de activación *relu*.\n",
        "        - *6º Capa*: capa densa con 64 neuronas y función de activación *relu*.\n",
        "        - *7º Capa*: capa densa con 32 neuronas y función de activación *relu*.\n",
        "        - *8º Capa*: capa densa con 16 neuronas y función de activación *relu*.\n",
        "        - *9º Capa*: capa de salida con una neurona sin función de activación.\n",
        "        \n",
        "    - Tipo de entrenamiento:\n",
        "        - *Epochs*: 30\n",
        "        - *Optimizador*: *adam*\n",
        "        - *Learning Rate*: 0.001"
      ]
    },
    {
      "cell_type": "code",
      "execution_count": null,
      "id": "a734f432-b266-41e3-8b57-1cffdd59a8d9",
      "metadata": {
        "colab": {
          "base_uri": "https://localhost:8080/"
        },
        "id": "a734f432-b266-41e3-8b57-1cffdd59a8d9",
        "outputId": "72040af2-70b0-48bd-c4ae-c8aa63c98030"
      },
      "outputs": [
        {
          "output_type": "stream",
          "name": "stdout",
          "text": [
            "Epoch 1/30\n",
            "32/32 [==============================] - 2s 19ms/step - loss: 82.5058\n",
            "Epoch 2/30\n",
            "32/32 [==============================] - 0s 15ms/step - loss: 56.7441\n",
            "Epoch 3/30\n",
            "32/32 [==============================] - 0s 15ms/step - loss: 55.3522\n",
            "Epoch 4/30\n",
            "32/32 [==============================] - 0s 14ms/step - loss: 54.8526\n",
            "Epoch 5/30\n",
            "32/32 [==============================] - 0s 14ms/step - loss: 51.9770\n",
            "Epoch 6/30\n",
            "32/32 [==============================] - 0s 14ms/step - loss: 50.0517\n",
            "Epoch 7/30\n",
            "32/32 [==============================] - 0s 14ms/step - loss: 47.2713\n",
            "Epoch 8/30\n",
            "32/32 [==============================] - 1s 16ms/step - loss: 44.5670\n",
            "Epoch 9/30\n",
            "32/32 [==============================] - 1s 19ms/step - loss: 44.3363\n",
            "Epoch 10/30\n",
            "32/32 [==============================] - 1s 16ms/step - loss: 43.8656\n",
            "Epoch 11/30\n",
            "32/32 [==============================] - 0s 13ms/step - loss: 45.5851\n",
            "Epoch 12/30\n",
            "32/32 [==============================] - 1s 18ms/step - loss: 42.9024\n",
            "Epoch 13/30\n",
            "32/32 [==============================] - 1s 19ms/step - loss: 42.6046\n",
            "Epoch 14/30\n",
            "32/32 [==============================] - 0s 15ms/step - loss: 44.3092\n",
            "Epoch 15/30\n",
            "32/32 [==============================] - 0s 14ms/step - loss: 42.8734\n",
            "Epoch 16/30\n",
            "32/32 [==============================] - 0s 15ms/step - loss: 43.8702\n",
            "Epoch 17/30\n",
            "32/32 [==============================] - 0s 14ms/step - loss: 42.7599\n",
            "Epoch 18/30\n",
            "32/32 [==============================] - 1s 19ms/step - loss: 42.2366\n",
            "Epoch 19/30\n",
            "32/32 [==============================] - 1s 24ms/step - loss: 43.1379\n",
            "Epoch 20/30\n",
            "32/32 [==============================] - 1s 24ms/step - loss: 42.0969\n",
            "Epoch 21/30\n",
            "32/32 [==============================] - 1s 20ms/step - loss: 41.6170\n",
            "Epoch 22/30\n",
            "32/32 [==============================] - 1s 20ms/step - loss: 41.6246\n",
            "Epoch 23/30\n",
            "32/32 [==============================] - 1s 19ms/step - loss: 41.2608\n",
            "Epoch 24/30\n",
            "32/32 [==============================] - 1s 20ms/step - loss: 42.1469\n",
            "Epoch 25/30\n",
            "32/32 [==============================] - 1s 18ms/step - loss: 41.4832\n",
            "Epoch 26/30\n",
            "32/32 [==============================] - 1s 18ms/step - loss: 41.5676\n",
            "Epoch 27/30\n",
            "32/32 [==============================] - 1s 18ms/step - loss: 41.4668\n",
            "Epoch 28/30\n",
            "32/32 [==============================] - 1s 19ms/step - loss: 41.4499\n",
            "Epoch 29/30\n",
            "32/32 [==============================] - 1s 17ms/step - loss: 42.0147\n",
            "Epoch 30/30\n",
            "32/32 [==============================] - 0s 13ms/step - loss: 41.7688\n"
          ]
        },
        {
          "output_type": "execute_result",
          "data": {
            "text/plain": [
              "<keras.src.callbacks.History at 0x7871a5d595d0>"
            ]
          },
          "metadata": {},
          "execution_count": 13
        }
      ],
      "source": [
        "# Tomar un subconjunto de 1000 datos\n",
        "subset_size = 1000\n",
        "indices_subset = np.random.choice(len(x), subset_size, replace=False)\n",
        "x_subset = x[indices_subset]\n",
        "y_subset = y[indices_subset]\n",
        "\n",
        "# Construir el modelo con la nueva arquitectura\n",
        "model = Sequential()\n",
        "model.add(Dense(1024, input_dim=x_subset.shape[1], activation='relu'))\n",
        "model.add(Dense(512, activation='relu'))\n",
        "model.add(Dense(256, activation='relu'))\n",
        "model.add(Dense(128, activation='relu'))\n",
        "model.add(Dense(64, activation='relu'))\n",
        "model.add(Dense(32, activation='relu'))\n",
        "model.add(Dense(16, activation='relu'))\n",
        "model.add(Dense(1, activation=None))\n",
        "\n",
        "# Compilar el modelo\n",
        "optimizer = tf.keras.optimizers.Adam(learning_rate=0.001)\n",
        "model.compile(loss=actual_loss, optimizer=optimizer)\n",
        "\n",
        "# Entrenar el modelo\n",
        "epochs = 30\n",
        "model.fit(x_subset, y_subset, epochs=epochs)"
      ]
    },
    {
      "cell_type": "markdown",
      "id": "22d5229a-67db-44b9-ace7-a7878b6ca373",
      "metadata": {
        "id": "22d5229a-67db-44b9-ace7-a7878b6ca373"
      },
      "source": [
        "### <font color=\"#004D7F\" size=4>Ejercicio 5</font>\n",
        "Compara los resultados obtenidos en cada una de las arquitecturas definidas y quédate con la mejor. **¿En qué experimento se obtiene los mejores resultados?**\n",
        "\n",
        "La arquitectura elegida la usaremos en el caso práctico para seguir ajustando nuestro modelo y alcanzar un buen rendimiento."
      ]
    },
    {
      "cell_type": "markdown",
      "source": [
        "La arquitectura que mejor resultado nos arroja sería la última de 9 capas con un valor de pérdida de 41,77 siendo el más bajo de todo. La usaremos para seguir ajustando nuestro modelo."
      ],
      "metadata": {
        "id": "4TIe3PECoLJc"
      },
      "id": "4TIe3PECoLJc"
    },
    {
      "cell_type": "markdown",
      "id": "2f38ec3e-3d9e-4b52-a9c2-40a4f8857e6f",
      "metadata": {
        "id": "2f38ec3e-3d9e-4b52-a9c2-40a4f8857e6f"
      },
      "source": [
        "## 3. Elegimos un Optimizer."
      ]
    },
    {
      "cell_type": "markdown",
      "id": "ed8c324c-5701-442e-9127-e1891e88e475",
      "metadata": {
        "id": "ed8c324c-5701-442e-9127-e1891e88e475"
      },
      "source": [
        "Hemos establecido Adam en los entrenamientos anteriores. Vamos a comprobarlo para el conjunto de validación como funciona y después probaremos a usar un optimizador SGD."
      ]
    },
    {
      "cell_type": "markdown",
      "id": "17f6353c-328c-46ab-8b48-53ad5da43948",
      "metadata": {
        "tags": [],
        "id": "17f6353c-328c-46ab-8b48-53ad5da43948"
      },
      "source": [
        "### <font color=\"#004D7F\" size=4>Ejercicio 6</font>\n",
        "\n",
        "Usa la mejor arquitectura y configuración de entrenamiento de los ejercicios anteriores y entrena con la siguiente configuración:\n",
        "\n",
        "- Usa un `validation_split` de 0.2\n",
        "- Utiliza todos los datos y no solo 1000.\n",
        "- Usa 5 epochs en total."
      ]
    },
    {
      "cell_type": "code",
      "execution_count": null,
      "id": "7bdad0c5-e32f-42c3-a00b-8adae93b2997",
      "metadata": {
        "colab": {
          "base_uri": "https://localhost:8080/"
        },
        "id": "7bdad0c5-e32f-42c3-a00b-8adae93b2997",
        "outputId": "196a634c-f154-488c-82d9-7a019aed4948"
      },
      "outputs": [
        {
          "output_type": "stream",
          "name": "stdout",
          "text": [
            "Epoch 1/5\n",
            "511/511 [==============================] - 12s 21ms/step - loss: 46.7261 - val_loss: 46.0639\n",
            "Epoch 2/5\n",
            "511/511 [==============================] - 9s 18ms/step - loss: 40.1803 - val_loss: 41.4132\n",
            "Epoch 3/5\n",
            "511/511 [==============================] - 9s 18ms/step - loss: 36.5169 - val_loss: 39.7049\n",
            "Epoch 4/5\n",
            "511/511 [==============================] - 11s 21ms/step - loss: 35.1936 - val_loss: 36.0480\n",
            "Epoch 5/5\n",
            "511/511 [==============================] - 10s 20ms/step - loss: 33.0300 - val_loss: 33.9072\n"
          ]
        },
        {
          "output_type": "execute_result",
          "data": {
            "text/plain": [
              "<keras.src.callbacks.History at 0x7871a5baf5e0>"
            ]
          },
          "metadata": {},
          "execution_count": 15
        }
      ],
      "source": [
        "model = Sequential()\n",
        "model.add(Dense(1024, input_dim=x.shape[1], activation='relu'))\n",
        "model.add(Dense(512, activation='relu'))\n",
        "model.add(Dense(256, activation='relu'))\n",
        "model.add(Dense(128, activation='relu'))\n",
        "model.add(Dense(64, activation='relu'))\n",
        "model.add(Dense(32, activation='relu'))\n",
        "model.add(Dense(16, activation='relu'))\n",
        "model.add(Dense(1, activation=None))\n",
        "\n",
        "# Compilar el modelo\n",
        "optimizer = tf.keras.optimizers.Adam(learning_rate=0.001)\n",
        "model.compile(loss=actual_loss, optimizer=optimizer)\n",
        "\n",
        "# Entrenar el modelo con validation_split\n",
        "epochs = 5\n",
        "model.fit(x, y, epochs=epochs, validation_split=0.2)"
      ]
    },
    {
      "cell_type": "markdown",
      "id": "56a927c1-3ca7-431a-90d1-e9554c0d6dcb",
      "metadata": {
        "tags": [],
        "id": "56a927c1-3ca7-431a-90d1-e9554c0d6dcb"
      },
      "source": [
        "### <font color=\"#004D7F\" size=4>Ejercicio 7</font>\n",
        "\n",
        "Realiza el mismo entrenamiento que el ejercicio anterior pero usa un optimizador **SGD** en lugar de un Adam."
      ]
    },
    {
      "cell_type": "code",
      "execution_count": null,
      "id": "8ca696c2-cdce-4391-9d81-20d768bf0537",
      "metadata": {
        "colab": {
          "base_uri": "https://localhost:8080/"
        },
        "id": "8ca696c2-cdce-4391-9d81-20d768bf0537",
        "outputId": "df57dc9b-2e71-45cb-f276-4c6ed1ef814b"
      },
      "outputs": [
        {
          "output_type": "stream",
          "name": "stdout",
          "text": [
            "Epoch 1/5\n",
            "511/511 [==============================] - 10s 18ms/step - loss: 99.9796 - val_loss: 99.9601\n",
            "Epoch 2/5\n",
            "511/511 [==============================] - 8s 16ms/step - loss: 99.8868 - val_loss: 99.7409\n",
            "Epoch 3/5\n",
            "511/511 [==============================] - 9s 18ms/step - loss: 77.8997 - val_loss: 58.1641\n",
            "Epoch 4/5\n",
            "511/511 [==============================] - 7s 14ms/step - loss: 56.4879 - val_loss: 56.3109\n",
            "Epoch 5/5\n",
            "511/511 [==============================] - 9s 17ms/step - loss: 55.6773 - val_loss: 58.0739\n"
          ]
        },
        {
          "output_type": "execute_result",
          "data": {
            "text/plain": [
              "<keras.src.callbacks.History at 0x787196781660>"
            ]
          },
          "metadata": {},
          "execution_count": 16
        }
      ],
      "source": [
        "model = Sequential()\n",
        "model.add(Dense(1024, input_dim=x.shape[1], activation='relu'))\n",
        "model.add(Dense(512, activation='relu'))\n",
        "model.add(Dense(256, activation='relu'))\n",
        "model.add(Dense(128, activation='relu'))\n",
        "model.add(Dense(64, activation='relu'))\n",
        "model.add(Dense(32, activation='relu'))\n",
        "model.add(Dense(16, activation='relu'))\n",
        "model.add(Dense(1, activation=None))\n",
        "\n",
        "# Compilar el modelo con el optimizador SGD\n",
        "optimizer = tf.keras.optimizers.SGD(learning_rate=0.001)\n",
        "model.compile(loss=actual_loss, optimizer=optimizer)\n",
        "\n",
        "# Entrenar el modelo con validation_split\n",
        "epochs = 5\n",
        "model.fit(x, y, epochs=epochs, validation_split=0.2)"
      ]
    },
    {
      "cell_type": "markdown",
      "id": "e1964d40-54a1-4b33-83d0-f0102ffbc267",
      "metadata": {
        "tags": [],
        "id": "e1964d40-54a1-4b33-83d0-f0102ffbc267"
      },
      "source": [
        "### <font color=\"#004D7F\" size=4>Ejercicio 8</font>\n",
        "\n",
        "**¿Qué optimizador ha funcionado mejor?**\n",
        "\n",
        "El optimizador que eligas tendrás que usarlo en los siguientes ejercicios."
      ]
    },
    {
      "cell_type": "markdown",
      "source": [
        "El optimizador que mejor nos funciona es el Adam con más de un 20% menos de valor de pérdida."
      ],
      "metadata": {
        "id": "xf6FiwQerpTl"
      },
      "id": "xf6FiwQerpTl"
    },
    {
      "cell_type": "markdown",
      "id": "77b03e79-c55c-48dd-815b-26536ed2923d",
      "metadata": {
        "id": "77b03e79-c55c-48dd-815b-26536ed2923d"
      },
      "source": [
        "## 4. Probar diferentes configuraciones con un número pequeño de epochs.\n",
        "\n",
        "Vamos a realizar diferentes experimentos cambiando el learning rate de nuestro optimizador."
      ]
    },
    {
      "cell_type": "markdown",
      "id": "5c01a951-e821-4346-b159-0bce6f98b133",
      "metadata": {
        "tags": [],
        "id": "5c01a951-e821-4346-b159-0bce6f98b133"
      },
      "source": [
        "### <font color=\"#004D7F\" size=4>Ejercicio 9</font>\n",
        "\n",
        "Realiza un entrenamiento con la arquitectura y el optimizador que mejor te ha funcionado y utilizar un **learning rate de 0.1**."
      ]
    },
    {
      "cell_type": "code",
      "execution_count": null,
      "id": "58be2b19-aece-4194-86d9-254528c54bf1",
      "metadata": {
        "colab": {
          "base_uri": "https://localhost:8080/"
        },
        "id": "58be2b19-aece-4194-86d9-254528c54bf1",
        "outputId": "3463cc5f-5235-42fa-b2de-4d602866fea3"
      },
      "outputs": [
        {
          "output_type": "stream",
          "name": "stdout",
          "text": [
            "Epoch 1/5\n",
            "511/511 [==============================] - 13s 23ms/step - loss: 109.7063 - val_loss: 99.9684\n",
            "Epoch 2/5\n",
            "511/511 [==============================] - 9s 18ms/step - loss: 99.9486 - val_loss: 99.9361\n",
            "Epoch 3/5\n",
            "511/511 [==============================] - 10s 19ms/step - loss: 99.9141 - val_loss: 99.9041\n",
            "Epoch 4/5\n",
            "511/511 [==============================] - 10s 20ms/step - loss: 99.8797 - val_loss: 99.8720\n",
            "Epoch 5/5\n",
            "511/511 [==============================] - 8s 16ms/step - loss: 99.8452 - val_loss: 99.8401\n"
          ]
        },
        {
          "output_type": "execute_result",
          "data": {
            "text/plain": [
              "<keras.src.callbacks.History at 0x7871a5bba080>"
            ]
          },
          "metadata": {},
          "execution_count": 17
        }
      ],
      "source": [
        "model = Sequential()\n",
        "model.add(Dense(1024, input_dim=x.shape[1], activation='relu'))\n",
        "model.add(Dense(512, activation='relu'))\n",
        "model.add(Dense(256, activation='relu'))\n",
        "model.add(Dense(128, activation='relu'))\n",
        "model.add(Dense(64, activation='relu'))\n",
        "model.add(Dense(32, activation='relu'))\n",
        "model.add(Dense(16, activation='relu'))\n",
        "model.add(Dense(1, activation=None))\n",
        "\n",
        "# Compilar el modelo con el optimizador Adam y learning rate de 0.1\n",
        "optimizer = tf.keras.optimizers.Adam(learning_rate=0.1)\n",
        "model.compile(loss=actual_loss, optimizer=optimizer)\n",
        "\n",
        "# Entrenar el modelo con validation_split\n",
        "epochs = 5\n",
        "model.fit(x, y, epochs=epochs, validation_split=0.2)"
      ]
    },
    {
      "cell_type": "markdown",
      "id": "464a5792-743d-43f6-8cdd-651ad86309a1",
      "metadata": {
        "tags": [],
        "id": "464a5792-743d-43f6-8cdd-651ad86309a1"
      },
      "source": [
        "### <font color=\"#004D7F\" size=4>Ejercicio 10</font>\n",
        "\n",
        "Realiza el mismo entrenamiento que el ejercicio anterior pero esta vez usa un **learning rate de 0.0001**."
      ]
    },
    {
      "cell_type": "code",
      "execution_count": null,
      "id": "fc098f90-e0e6-4984-8d2c-daf290f41f49",
      "metadata": {
        "colab": {
          "base_uri": "https://localhost:8080/"
        },
        "id": "fc098f90-e0e6-4984-8d2c-daf290f41f49",
        "outputId": "8d6b7eb0-be2d-4e9a-e1f0-a80ecb40603a"
      },
      "outputs": [
        {
          "output_type": "stream",
          "name": "stdout",
          "text": [
            "Epoch 1/5\n",
            "511/511 [==============================] - 12s 20ms/step - loss: 61.4175 - val_loss: 53.4518\n",
            "Epoch 2/5\n",
            "511/511 [==============================] - 11s 21ms/step - loss: 46.0746 - val_loss: 47.5564\n",
            "Epoch 3/5\n",
            "511/511 [==============================] - 10s 20ms/step - loss: 41.9281 - val_loss: 47.0762\n",
            "Epoch 4/5\n",
            "511/511 [==============================] - 10s 19ms/step - loss: 41.0650 - val_loss: 46.4158\n",
            "Epoch 5/5\n",
            "511/511 [==============================] - 11s 21ms/step - loss: 40.4569 - val_loss: 46.1951\n"
          ]
        },
        {
          "output_type": "execute_result",
          "data": {
            "text/plain": [
              "<keras.src.callbacks.History at 0x7871963b7a00>"
            ]
          },
          "metadata": {},
          "execution_count": 18
        }
      ],
      "source": [
        "model = Sequential()\n",
        "model.add(Dense(1024, input_dim=x.shape[1], activation='relu'))\n",
        "model.add(Dense(512, activation='relu'))\n",
        "model.add(Dense(256, activation='relu'))\n",
        "model.add(Dense(128, activation='relu'))\n",
        "model.add(Dense(64, activation='relu'))\n",
        "model.add(Dense(32, activation='relu'))\n",
        "model.add(Dense(16, activation='relu'))\n",
        "model.add(Dense(1, activation=None))\n",
        "\n",
        "# Compilar el modelo con el optimizador Adam y learning rate de 0.1\n",
        "optimizer = tf.keras.optimizers.Adam(learning_rate=0.0001)\n",
        "model.compile(loss=actual_loss, optimizer=optimizer)\n",
        "\n",
        "# Entrenar el modelo con validation_split\n",
        "epochs = 5\n",
        "model.fit(x, y, epochs=epochs, validation_split=0.2)"
      ]
    },
    {
      "cell_type": "markdown",
      "id": "05214e09-3642-488e-9499-1659520cb329",
      "metadata": {
        "id": "05214e09-3642-488e-9499-1659520cb329"
      },
      "source": [
        "## 5. Ajuste refinado de los parámetros con más epochs. [Opcional]\n",
        "\n",
        "Por último vamos a realizar un entrenamiento más largo para ver hasta donde llega el rendimiento de nuestro modelo."
      ]
    },
    {
      "cell_type": "markdown",
      "id": "bce78f8d-3b8e-4450-8d7e-3545682b87e6",
      "metadata": {
        "tags": [],
        "id": "bce78f8d-3b8e-4450-8d7e-3545682b87e6"
      },
      "source": [
        "### <font color=\"#004D7F\" size=4>Ejercicio 11 [Opcional]</font>\n",
        "\n",
        "**¿Entre los entrenamientos usando learning rates igual a 0.001, 0.1 y 0.0001 cual ha funcionado mejor?**\n",
        "\n",
        "Con el experimento que mejor haya funcionado haz un entrenamiento usando 30 epochs y ver que tal funciona el entrenamiento con más epochs."
      ]
    },
    {
      "cell_type": "code",
      "execution_count": null,
      "id": "c29c834b-2c2e-4d03-b870-a2078f76c44c",
      "metadata": {
        "colab": {
          "base_uri": "https://localhost:8080/"
        },
        "id": "c29c834b-2c2e-4d03-b870-a2078f76c44c",
        "outputId": "2814331e-b75e-4e76-8940-147a98eb627a"
      },
      "outputs": [
        {
          "output_type": "stream",
          "name": "stdout",
          "text": [
            "Epoch 1/30\n",
            "511/511 [==============================] - 12s 20ms/step - loss: 64.7519 - val_loss: 54.7289\n",
            "Epoch 2/30\n",
            "511/511 [==============================] - 11s 22ms/step - loss: 49.7886 - val_loss: 48.6029\n",
            "Epoch 3/30\n",
            "511/511 [==============================] - 10s 20ms/step - loss: 42.9090 - val_loss: 47.8273\n",
            "Epoch 4/30\n",
            "511/511 [==============================] - 9s 17ms/step - loss: 41.9548 - val_loss: 47.6296\n",
            "Epoch 5/30\n",
            "511/511 [==============================] - 11s 21ms/step - loss: 41.4015 - val_loss: 46.8519\n",
            "Epoch 6/30\n",
            "511/511 [==============================] - 11s 22ms/step - loss: 40.8857 - val_loss: 46.4736\n",
            "Epoch 7/30\n",
            "511/511 [==============================] - 8s 15ms/step - loss: 40.4472 - val_loss: 45.8318\n",
            "Epoch 8/30\n",
            "511/511 [==============================] - 10s 20ms/step - loss: 39.7836 - val_loss: 45.2133\n",
            "Epoch 9/30\n",
            "511/511 [==============================] - 11s 21ms/step - loss: 39.2555 - val_loss: 45.0993\n",
            "Epoch 10/30\n",
            "511/511 [==============================] - 8s 16ms/step - loss: 38.4640 - val_loss: 43.5075\n",
            "Epoch 11/30\n",
            "511/511 [==============================] - 10s 20ms/step - loss: 37.7206 - val_loss: 42.4767\n",
            "Epoch 12/30\n",
            "511/511 [==============================] - 10s 20ms/step - loss: 36.9733 - val_loss: 41.5947\n",
            "Epoch 13/30\n",
            "511/511 [==============================] - 9s 17ms/step - loss: 35.8045 - val_loss: 40.3321\n",
            "Epoch 14/30\n",
            "511/511 [==============================] - 10s 19ms/step - loss: 34.9317 - val_loss: 38.6896\n",
            "Epoch 15/30\n",
            "511/511 [==============================] - 10s 19ms/step - loss: 33.9039 - val_loss: 37.7685\n",
            "Epoch 16/30\n",
            "511/511 [==============================] - 9s 18ms/step - loss: 33.2252 - val_loss: 36.7715\n",
            "Epoch 17/30\n",
            "511/511 [==============================] - 11s 21ms/step - loss: 32.6524 - val_loss: 35.4725\n",
            "Epoch 18/30\n",
            "511/511 [==============================] - 10s 19ms/step - loss: 31.9541 - val_loss: 35.3694\n",
            "Epoch 19/30\n",
            "511/511 [==============================] - 8s 16ms/step - loss: 31.2191 - val_loss: 35.3127\n",
            "Epoch 20/30\n",
            "511/511 [==============================] - 9s 18ms/step - loss: 30.6682 - val_loss: 33.1386\n",
            "Epoch 21/30\n",
            "511/511 [==============================] - 10s 19ms/step - loss: 30.2991 - val_loss: 32.8716\n",
            "Epoch 22/30\n",
            "511/511 [==============================] - 10s 20ms/step - loss: 29.8151 - val_loss: 34.7419\n",
            "Epoch 23/30\n",
            "511/511 [==============================] - 10s 20ms/step - loss: 29.5598 - val_loss: 33.0560\n",
            "Epoch 24/30\n",
            "511/511 [==============================] - 9s 18ms/step - loss: 28.7327 - val_loss: 34.1499\n",
            "Epoch 25/30\n",
            "511/511 [==============================] - 10s 20ms/step - loss: 28.7668 - val_loss: 32.4397\n",
            "Epoch 26/30\n",
            "511/511 [==============================] - 10s 20ms/step - loss: 28.3398 - val_loss: 30.3214\n",
            "Epoch 27/30\n",
            "511/511 [==============================] - 10s 20ms/step - loss: 28.0543 - val_loss: 31.0754\n",
            "Epoch 28/30\n",
            "511/511 [==============================] - 9s 18ms/step - loss: 27.6009 - val_loss: 32.2983\n",
            "Epoch 29/30\n",
            "511/511 [==============================] - 10s 19ms/step - loss: 27.4179 - val_loss: 28.9286\n",
            "Epoch 30/30\n",
            "511/511 [==============================] - 14s 28ms/step - loss: 27.1149 - val_loss: 32.7053\n"
          ]
        },
        {
          "output_type": "execute_result",
          "data": {
            "text/plain": [
              "<keras.src.callbacks.History at 0x78719605af50>"
            ]
          },
          "metadata": {},
          "execution_count": 19
        }
      ],
      "source": [
        "model = Sequential()\n",
        "model.add(Dense(1024, input_dim=x.shape[1], activation='relu'))\n",
        "model.add(Dense(512, activation='relu'))\n",
        "model.add(Dense(256, activation='relu'))\n",
        "model.add(Dense(128, activation='relu'))\n",
        "model.add(Dense(64, activation='relu'))\n",
        "model.add(Dense(32, activation='relu'))\n",
        "model.add(Dense(16, activation='relu'))\n",
        "model.add(Dense(1, activation=None))\n",
        "\n",
        "# Compilar el modelo con el optimizador Adam y learning rate de 0.1\n",
        "optimizer = tf.keras.optimizers.Adam(learning_rate=0.0001)\n",
        "model.compile(loss=actual_loss, optimizer=optimizer)\n",
        "\n",
        "# Entrenar el modelo con validation_split\n",
        "epochs = 30\n",
        "model.fit(x, y, epochs=epochs, validation_split=0.2)"
      ]
    },
    {
      "cell_type": "markdown",
      "id": "122a9867-c26b-4a60-9990-5676eb76b7b6",
      "metadata": {
        "tags": [],
        "id": "122a9867-c26b-4a60-9990-5676eb76b7b6"
      },
      "source": [
        "### <font color=\"#004D7F\" size=4>Ejercicio 12 [Opcional]</font>\n",
        "\n",
        "Muestra en una gráfica como ha evolucionado el entrenamiento."
      ]
    },
    {
      "cell_type": "code",
      "execution_count": null,
      "id": "4b6ac9ba-15d1-40b1-b052-7b2d1324c0f9",
      "metadata": {
        "colab": {
          "base_uri": "https://localhost:8080/",
          "height": 1000
        },
        "id": "4b6ac9ba-15d1-40b1-b052-7b2d1324c0f9",
        "outputId": "93746f2b-6846-4918-e799-23d0ccf991fe"
      },
      "outputs": [
        {
          "output_type": "stream",
          "name": "stdout",
          "text": [
            "Epoch 1/30\n",
            "511/511 [==============================] - 9s 17ms/step - loss: 26.8551 - val_loss: 28.9344\n",
            "Epoch 2/30\n",
            "511/511 [==============================] - 9s 19ms/step - loss: 26.5508 - val_loss: 28.7182\n",
            "Epoch 3/30\n",
            "511/511 [==============================] - 9s 18ms/step - loss: 26.3714 - val_loss: 28.3342\n",
            "Epoch 4/30\n",
            "511/511 [==============================] - 9s 18ms/step - loss: 26.3577 - val_loss: 29.7376\n",
            "Epoch 5/30\n",
            "511/511 [==============================] - 10s 19ms/step - loss: 26.3607 - val_loss: 34.0331\n",
            "Epoch 6/30\n",
            "511/511 [==============================] - 8s 16ms/step - loss: 26.1013 - val_loss: 27.6963\n",
            "Epoch 7/30\n",
            "511/511 [==============================] - 11s 21ms/step - loss: 25.8818 - val_loss: 30.8550\n",
            "Epoch 8/30\n",
            "511/511 [==============================] - 10s 20ms/step - loss: 25.8401 - val_loss: 30.6173\n",
            "Epoch 9/30\n",
            "511/511 [==============================] - 11s 21ms/step - loss: 25.8249 - val_loss: 30.2535\n",
            "Epoch 10/30\n",
            "511/511 [==============================] - 10s 20ms/step - loss: 25.6467 - val_loss: 27.4270\n",
            "Epoch 11/30\n",
            "511/511 [==============================] - 9s 18ms/step - loss: 25.7662 - val_loss: 30.9220\n",
            "Epoch 12/30\n",
            "511/511 [==============================] - 10s 20ms/step - loss: 25.5411 - val_loss: 28.1018\n",
            "Epoch 13/30\n",
            "511/511 [==============================] - 9s 18ms/step - loss: 25.6944 - val_loss: 31.9512\n",
            "Epoch 14/30\n",
            "511/511 [==============================] - 10s 19ms/step - loss: 25.3996 - val_loss: 28.1617\n",
            "Epoch 15/30\n",
            "511/511 [==============================] - 8s 16ms/step - loss: 25.2349 - val_loss: 28.3851\n",
            "Epoch 16/30\n",
            "511/511 [==============================] - 10s 19ms/step - loss: 25.3304 - val_loss: 26.7011\n",
            "Epoch 17/30\n",
            "511/511 [==============================] - 10s 19ms/step - loss: 25.2839 - val_loss: 27.6490\n",
            "Epoch 18/30\n",
            "511/511 [==============================] - 9s 18ms/step - loss: 24.9936 - val_loss: 27.3670\n",
            "Epoch 19/30\n",
            "511/511 [==============================] - 10s 19ms/step - loss: 25.1266 - val_loss: 32.2395\n",
            "Epoch 20/30\n",
            "511/511 [==============================] - 10s 19ms/step - loss: 25.0844 - val_loss: 27.7353\n",
            "Epoch 21/30\n",
            "511/511 [==============================] - 8s 16ms/step - loss: 24.9411 - val_loss: 29.2335\n",
            "Epoch 22/30\n",
            "511/511 [==============================] - 10s 19ms/step - loss: 25.3653 - val_loss: 25.9985\n",
            "Epoch 23/30\n",
            "511/511 [==============================] - 9s 17ms/step - loss: 24.8128 - val_loss: 26.4977\n",
            "Epoch 24/30\n",
            "511/511 [==============================] - 9s 18ms/step - loss: 24.8741 - val_loss: 25.9167\n",
            "Epoch 25/30\n",
            "511/511 [==============================] - 10s 20ms/step - loss: 24.5939 - val_loss: 26.6468\n",
            "Epoch 26/30\n",
            "511/511 [==============================] - 10s 19ms/step - loss: 25.1158 - val_loss: 30.9172\n",
            "Epoch 27/30\n",
            "511/511 [==============================] - 9s 17ms/step - loss: 24.9558 - val_loss: 27.6305\n",
            "Epoch 28/30\n",
            "511/511 [==============================] - 10s 20ms/step - loss: 24.6361 - val_loss: 32.0944\n",
            "Epoch 29/30\n",
            "511/511 [==============================] - 8s 15ms/step - loss: 24.6357 - val_loss: 26.7993\n",
            "Epoch 30/30\n",
            "511/511 [==============================] - 10s 20ms/step - loss: 24.7543 - val_loss: 27.9030\n"
          ]
        },
        {
          "output_type": "display_data",
          "data": {
            "text/plain": [
              "<Figure size 640x480 with 1 Axes>"
            ],
            "image/png": "[encoded data removed]"
          },
          "metadata": {}
        }
      ],
      "source": [
        "import matplotlib.pyplot as plt\n",
        "\n",
        "\n",
        "modelo = model.fit(x, y, epochs=30, validation_split=0.2)\n",
        "\n",
        "# Mostrar la evolución de la pérdida en el conjunto de entrenamiento y validación\n",
        "plt.plot(modelo.history['loss'], label='Training Loss')\n",
        "plt.plot(modelo.history['val_loss'], label='Validation Loss')\n",
        "plt.title('Evolución de la Pérdida durante el Entrenamiento')\n",
        "plt.xlabel('Época')\n",
        "plt.ylabel('Pérdida')\n",
        "plt.legend()\n",
        "plt.show()"
      ]
    },
    {
      "cell_type": "code",
      "source": [
        "pip install nbconvert pandoc\n"
      ],
      "metadata": {
        "colab": {
          "base_uri": "https://localhost:8080/"
        },
        "id": "b4kDhbGyziIG",
        "outputId": "53d6c861-95e6-4d64-80bc-31bd78fb714d"
      },
      "id": "b4kDhbGyziIG",
      "execution_count": null,
      "outputs": [
        {
          "output_type": "stream",
          "name": "stdout",
          "text": [
            "Requirement already satisfied: nbconvert in /usr/local/lib/python3.10/dist-packages (6.5.4)\n",
            "Collecting pandoc\n",
            "  Downloading pandoc-2.3.tar.gz (33 kB)\n",
            "  Preparing metadata (setup.py) ... \u001b[?25l\u001b[?25hdone\n",
            "Requirement already satisfied: lxml in /usr/local/lib/python3.10/dist-packages (from nbconvert) (4.9.3)\n",
            "Requirement already satisfied: beautifulsoup4 in /usr/local/lib/python3.10/dist-packages (from nbconvert) (4.11.2)\n",
            "Requirement already satisfied: bleach in /usr/local/lib/python3.10/dist-packages (from nbconvert) (6.1.0)\n",
            "Requirement already satisfied: defusedxml in /usr/local/lib/python3.10/dist-packages (from nbconvert) (0.7.1)\n",
            "Requirement already satisfied: entrypoints>=0.2.2 in /usr/local/lib/python3.10/dist-packages (from nbconvert) (0.4)\n",
            "Requirement already satisfied: jinja2>=3.0 in /usr/local/lib/python3.10/dist-packages (from nbconvert) (3.1.2)\n",
            "Requirement already satisfied: jupyter-core>=4.7 in /usr/local/lib/python3.10/dist-packages (from nbconvert) (5.5.0)\n",
            "Requirement already satisfied: jupyterlab-pygments in /usr/local/lib/python3.10/dist-packages (from nbconvert) (0.2.2)\n",
            "Requirement already satisfied: MarkupSafe>=2.0 in /usr/local/lib/python3.10/dist-packages (from nbconvert) (2.1.3)\n",
            "Requirement already satisfied: mistune<2,>=0.8.1 in /usr/local/lib/python3.10/dist-packages (from nbconvert) (0.8.4)\n",
            "Requirement already satisfied: nbclient>=0.5.0 in /usr/local/lib/python3.10/dist-packages (from nbconvert) (0.9.0)\n",
            "Requirement already satisfied: nbformat>=5.1 in /usr/local/lib/python3.10/dist-packages (from nbconvert) (5.9.2)\n",
            "Requirement already satisfied: packaging in /usr/local/lib/python3.10/dist-packages (from nbconvert) (23.2)\n",
            "Requirement already satisfied: pandocfilters>=1.4.1 in /usr/local/lib/python3.10/dist-packages (from nbconvert) (1.5.0)\n",
            "Requirement already satisfied: pygments>=2.4.1 in /usr/local/lib/python3.10/dist-packages (from nbconvert) (2.16.1)\n",
            "Requirement already satisfied: tinycss2 in /usr/local/lib/python3.10/dist-packages (from nbconvert) (1.2.1)\n",
            "Requirement already satisfied: traitlets>=5.0 in /usr/local/lib/python3.10/dist-packages (from nbconvert) (5.7.1)\n",
            "Collecting plumbum (from pandoc)\n",
            "  Downloading plumbum-1.8.2-py3-none-any.whl (127 kB)\n",
            "\u001b[2K     \u001b[90m━━━━━━━━━━━━━━━━━━━━━━━━━━━━━━━━━━━━━━━━\u001b[0m \u001b[32m127.0/127.0 kB\u001b[0m \u001b[31m5.6 MB/s\u001b[0m eta \u001b[36m0:00:00\u001b[0m\n",
            "\u001b[?25hCollecting ply (from pandoc)\n",
            "  Downloading ply-3.11-py2.py3-none-any.whl (49 kB)\n",
            "\u001b[2K     \u001b[90m━━━━━━━━━━━━━━━━━━━━━━━━━━━━━━━━━━━━━━━━\u001b[0m \u001b[32m49.6/49.6 kB\u001b[0m \u001b[31m5.2 MB/s\u001b[0m eta \u001b[36m0:00:00\u001b[0m\n",
            "\u001b[?25hRequirement already satisfied: platformdirs>=2.5 in /usr/local/lib/python3.10/dist-packages (from jupyter-core>=4.7->nbconvert) (4.0.0)\n",
            "Requirement already satisfied: jupyter-client>=6.1.12 in /usr/local/lib/python3.10/dist-packages (from nbclient>=0.5.0->nbconvert) (6.1.12)\n",
            "Requirement already satisfied: fastjsonschema in /usr/local/lib/python3.10/dist-packages (from nbformat>=5.1->nbconvert) (2.19.0)\n",
            "Requirement already satisfied: jsonschema>=2.6 in /usr/local/lib/python3.10/dist-packages (from nbformat>=5.1->nbconvert) (4.19.2)\n",
            "Requirement already satisfied: soupsieve>1.2 in /usr/local/lib/python3.10/dist-packages (from beautifulsoup4->nbconvert) (2.5)\n",
            "Requirement already satisfied: six>=1.9.0 in /usr/local/lib/python3.10/dist-packages (from bleach->nbconvert) (1.16.0)\n",
            "Requirement already satisfied: webencodings in /usr/local/lib/python3.10/dist-packages (from bleach->nbconvert) (0.5.1)\n",
            "Requirement already satisfied: attrs>=22.2.0 in /usr/local/lib/python3.10/dist-packages (from jsonschema>=2.6->nbformat>=5.1->nbconvert) (23.1.0)\n",
            "Requirement already satisfied: jsonschema-specifications>=2023.03.6 in /usr/local/lib/python3.10/dist-packages (from jsonschema>=2.6->nbformat>=5.1->nbconvert) (2023.11.1)\n",
            "Requirement already satisfied: referencing>=0.28.4 in /usr/local/lib/python3.10/dist-packages (from jsonschema>=2.6->nbformat>=5.1->nbconvert) (0.31.0)\n",
            "Requirement already satisfied: rpds-py>=0.7.1 in /usr/local/lib/python3.10/dist-packages (from jsonschema>=2.6->nbformat>=5.1->nbconvert) (0.13.0)\n",
            "Requirement already satisfied: pyzmq>=13 in /usr/local/lib/python3.10/dist-packages (from jupyter-client>=6.1.12->nbclient>=0.5.0->nbconvert) (23.2.1)\n",
            "Requirement already satisfied: python-dateutil>=2.1 in /usr/local/lib/python3.10/dist-packages (from jupyter-client>=6.1.12->nbclient>=0.5.0->nbconvert) (2.8.2)\n",
            "Requirement already satisfied: tornado>=4.1 in /usr/local/lib/python3.10/dist-packages (from jupyter-client>=6.1.12->nbclient>=0.5.0->nbconvert) (6.3.2)\n",
            "Building wheels for collected packages: pandoc\n",
            "  Building wheel for pandoc (setup.py) ... \u001b[?25l\u001b[?25hdone\n",
            "  Created wheel for pandoc: filename=pandoc-2.3-py3-none-any.whl size=33259 sha256=7d014bd6c46ad36d4a1ff0476e129956e4b26ef5090b2b0eea5205100f853cf2\n",
            "  Stored in directory: /root/.cache/pip/wheels/76/27/c2/c26175310aadcb8741b77657a1bb49c50cc7d4cdbf9eee0005\n",
            "Successfully built pandoc\n",
            "Installing collected packages: ply, plumbum, pandoc\n",
            "Successfully installed pandoc-2.3 plumbum-1.8.2 ply-3.11\n"
          ]
        }
      ]
    }
  ],
  "metadata": {
    "kernelspec": {
      "display_name": "Python 3 (ipykernel)",
      "language": "python",
      "name": "python3"
    },
    "language_info": {
      "codemirror_mode": {
        "name": "ipython",
        "version": 3
      },
      "file_extension": ".py",
      "mimetype": "text/x-python",
      "name": "python",
      "nbconvert_exporter": "python",
      "pygments_lexer": "ipython3",
      "version": "3.8.8"
    },
    "colab": {
      "provenance": []
    }
  },
  "nbformat": 4,
  "nbformat_minor": 5
}